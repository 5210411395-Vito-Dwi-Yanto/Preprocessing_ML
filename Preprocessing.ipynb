{
  "nbformat": 4,
  "nbformat_minor": 0,
  "metadata": {
    "colab": {
      "provenance": [],
      "authorship_tag": "ABX9TyNNmi3zlF7cfaqPTJCgprTy",
      "include_colab_link": true
    },
    "kernelspec": {
      "name": "python3",
      "display_name": "Python 3"
    },
    "language_info": {
      "name": "python"
    }
  },
  "cells": [
    {
      "cell_type": "markdown",
      "metadata": {
        "id": "view-in-github",
        "colab_type": "text"
      },
      "source": [
        "<a href=\"https://colab.research.google.com/github/5210411395-Vito-Dwi-Yanto/Preprocessing_ML/blob/main/Preprocessing.ipynb\" target=\"_parent\"><img src=\"https://colab.research.google.com/assets/colab-badge.svg\" alt=\"Open In Colab\"/></a>"
      ]
    },
    {
      "cell_type": "markdown",
      "source": [
        "# **Memuat Data**"
      ],
      "metadata": {
        "id": "jD9xBoJRxELy"
      }
    },
    {
      "cell_type": "code",
      "execution_count": 1,
      "metadata": {
        "colab": {
          "base_uri": "https://localhost:8080/",
          "height": 351
        },
        "id": "hdBU4Qv3w9Q1",
        "outputId": "73ff08d9-79aa-4403-d007-14e9a0b2f515"
      },
      "outputs": [
        {
          "output_type": "execute_result",
          "data": {
            "text/plain": [
              "           id   Date  number of bedrooms  number of bathrooms  living area  \\\n",
              "0  6762810145  42491                   5                 2.50         3650   \n",
              "1  6762810635  42491                   4                 2.50         2920   \n",
              "2  6762810998  42491                   5                 2.75         2910   \n",
              "3  6762812605  42491                   4                 2.50         3310   \n",
              "4  6762812919  42491                   3                 2.00         2710   \n",
              "\n",
              "   lot area  number of floors  waterfront present  number of views  \\\n",
              "0      9050               2.0                   0                4   \n",
              "1      4000               1.5                   0                0   \n",
              "2      9480               1.5                   0                0   \n",
              "3     42998               2.0                   0                0   \n",
              "4      4500               1.5                   0                0   \n",
              "\n",
              "   condition of the house  ...  Built Year  Renovation Year  Postal Code  \\\n",
              "0                       5  ...        1921                0       122003   \n",
              "1                       5  ...        1909                0       122004   \n",
              "2                       3  ...        1939                0       122004   \n",
              "3                       3  ...        2001                0       122005   \n",
              "4                       4  ...        1929                0       122006   \n",
              "\n",
              "   Lattitude  Longitude  living_area_renov  lot_area_renov  \\\n",
              "0    52.8645   -114.557               2880            5400   \n",
              "1    52.8878   -114.470               2470            4000   \n",
              "2    52.8852   -114.468               2940            6600   \n",
              "3    52.9532   -114.321               3350           42847   \n",
              "4    52.9047   -114.485               2060            4500   \n",
              "\n",
              "   Number of schools nearby  Distance from the airport    Price  \n",
              "0                         2                         58  2380000  \n",
              "1                         2                         51  1400000  \n",
              "2                         1                         53  1200000  \n",
              "3                         3                         76   838000  \n",
              "4                         1                         51   805000  \n",
              "\n",
              "[5 rows x 23 columns]"
            ],
            "text/html": [
              "\n",
              "  <div id=\"df-e992acb5-9786-4399-b6a8-91bf47d8b456\">\n",
              "    <div class=\"colab-df-container\">\n",
              "      <div>\n",
              "<style scoped>\n",
              "    .dataframe tbody tr th:only-of-type {\n",
              "        vertical-align: middle;\n",
              "    }\n",
              "\n",
              "    .dataframe tbody tr th {\n",
              "        vertical-align: top;\n",
              "    }\n",
              "\n",
              "    .dataframe thead th {\n",
              "        text-align: right;\n",
              "    }\n",
              "</style>\n",
              "<table border=\"1\" class=\"dataframe\">\n",
              "  <thead>\n",
              "    <tr style=\"text-align: right;\">\n",
              "      <th></th>\n",
              "      <th>id</th>\n",
              "      <th>Date</th>\n",
              "      <th>number of bedrooms</th>\n",
              "      <th>number of bathrooms</th>\n",
              "      <th>living area</th>\n",
              "      <th>lot area</th>\n",
              "      <th>number of floors</th>\n",
              "      <th>waterfront present</th>\n",
              "      <th>number of views</th>\n",
              "      <th>condition of the house</th>\n",
              "      <th>...</th>\n",
              "      <th>Built Year</th>\n",
              "      <th>Renovation Year</th>\n",
              "      <th>Postal Code</th>\n",
              "      <th>Lattitude</th>\n",
              "      <th>Longitude</th>\n",
              "      <th>living_area_renov</th>\n",
              "      <th>lot_area_renov</th>\n",
              "      <th>Number of schools nearby</th>\n",
              "      <th>Distance from the airport</th>\n",
              "      <th>Price</th>\n",
              "    </tr>\n",
              "  </thead>\n",
              "  <tbody>\n",
              "    <tr>\n",
              "      <th>0</th>\n",
              "      <td>6762810145</td>\n",
              "      <td>42491</td>\n",
              "      <td>5</td>\n",
              "      <td>2.50</td>\n",
              "      <td>3650</td>\n",
              "      <td>9050</td>\n",
              "      <td>2.0</td>\n",
              "      <td>0</td>\n",
              "      <td>4</td>\n",
              "      <td>5</td>\n",
              "      <td>...</td>\n",
              "      <td>1921</td>\n",
              "      <td>0</td>\n",
              "      <td>122003</td>\n",
              "      <td>52.8645</td>\n",
              "      <td>-114.557</td>\n",
              "      <td>2880</td>\n",
              "      <td>5400</td>\n",
              "      <td>2</td>\n",
              "      <td>58</td>\n",
              "      <td>2380000</td>\n",
              "    </tr>\n",
              "    <tr>\n",
              "      <th>1</th>\n",
              "      <td>6762810635</td>\n",
              "      <td>42491</td>\n",
              "      <td>4</td>\n",
              "      <td>2.50</td>\n",
              "      <td>2920</td>\n",
              "      <td>4000</td>\n",
              "      <td>1.5</td>\n",
              "      <td>0</td>\n",
              "      <td>0</td>\n",
              "      <td>5</td>\n",
              "      <td>...</td>\n",
              "      <td>1909</td>\n",
              "      <td>0</td>\n",
              "      <td>122004</td>\n",
              "      <td>52.8878</td>\n",
              "      <td>-114.470</td>\n",
              "      <td>2470</td>\n",
              "      <td>4000</td>\n",
              "      <td>2</td>\n",
              "      <td>51</td>\n",
              "      <td>1400000</td>\n",
              "    </tr>\n",
              "    <tr>\n",
              "      <th>2</th>\n",
              "      <td>6762810998</td>\n",
              "      <td>42491</td>\n",
              "      <td>5</td>\n",
              "      <td>2.75</td>\n",
              "      <td>2910</td>\n",
              "      <td>9480</td>\n",
              "      <td>1.5</td>\n",
              "      <td>0</td>\n",
              "      <td>0</td>\n",
              "      <td>3</td>\n",
              "      <td>...</td>\n",
              "      <td>1939</td>\n",
              "      <td>0</td>\n",
              "      <td>122004</td>\n",
              "      <td>52.8852</td>\n",
              "      <td>-114.468</td>\n",
              "      <td>2940</td>\n",
              "      <td>6600</td>\n",
              "      <td>1</td>\n",
              "      <td>53</td>\n",
              "      <td>1200000</td>\n",
              "    </tr>\n",
              "    <tr>\n",
              "      <th>3</th>\n",
              "      <td>6762812605</td>\n",
              "      <td>42491</td>\n",
              "      <td>4</td>\n",
              "      <td>2.50</td>\n",
              "      <td>3310</td>\n",
              "      <td>42998</td>\n",
              "      <td>2.0</td>\n",
              "      <td>0</td>\n",
              "      <td>0</td>\n",
              "      <td>3</td>\n",
              "      <td>...</td>\n",
              "      <td>2001</td>\n",
              "      <td>0</td>\n",
              "      <td>122005</td>\n",
              "      <td>52.9532</td>\n",
              "      <td>-114.321</td>\n",
              "      <td>3350</td>\n",
              "      <td>42847</td>\n",
              "      <td>3</td>\n",
              "      <td>76</td>\n",
              "      <td>838000</td>\n",
              "    </tr>\n",
              "    <tr>\n",
              "      <th>4</th>\n",
              "      <td>6762812919</td>\n",
              "      <td>42491</td>\n",
              "      <td>3</td>\n",
              "      <td>2.00</td>\n",
              "      <td>2710</td>\n",
              "      <td>4500</td>\n",
              "      <td>1.5</td>\n",
              "      <td>0</td>\n",
              "      <td>0</td>\n",
              "      <td>4</td>\n",
              "      <td>...</td>\n",
              "      <td>1929</td>\n",
              "      <td>0</td>\n",
              "      <td>122006</td>\n",
              "      <td>52.9047</td>\n",
              "      <td>-114.485</td>\n",
              "      <td>2060</td>\n",
              "      <td>4500</td>\n",
              "      <td>1</td>\n",
              "      <td>51</td>\n",
              "      <td>805000</td>\n",
              "    </tr>\n",
              "  </tbody>\n",
              "</table>\n",
              "<p>5 rows × 23 columns</p>\n",
              "</div>\n",
              "      <button class=\"colab-df-convert\" onclick=\"convertToInteractive('df-e992acb5-9786-4399-b6a8-91bf47d8b456')\"\n",
              "              title=\"Convert this dataframe to an interactive table.\"\n",
              "              style=\"display:none;\">\n",
              "        \n",
              "  <svg xmlns=\"http://www.w3.org/2000/svg\" height=\"24px\"viewBox=\"0 0 24 24\"\n",
              "       width=\"24px\">\n",
              "    <path d=\"M0 0h24v24H0V0z\" fill=\"none\"/>\n",
              "    <path d=\"M18.56 5.44l.94 2.06.94-2.06 2.06-.94-2.06-.94-.94-2.06-.94 2.06-2.06.94zm-11 1L8.5 8.5l.94-2.06 2.06-.94-2.06-.94L8.5 2.5l-.94 2.06-2.06.94zm10 10l.94 2.06.94-2.06 2.06-.94-2.06-.94-.94-2.06-.94 2.06-2.06.94z\"/><path d=\"M17.41 7.96l-1.37-1.37c-.4-.4-.92-.59-1.43-.59-.52 0-1.04.2-1.43.59L10.3 9.45l-7.72 7.72c-.78.78-.78 2.05 0 2.83L4 21.41c.39.39.9.59 1.41.59.51 0 1.02-.2 1.41-.59l7.78-7.78 2.81-2.81c.8-.78.8-2.07 0-2.86zM5.41 20L4 18.59l7.72-7.72 1.47 1.35L5.41 20z\"/>\n",
              "  </svg>\n",
              "      </button>\n",
              "      \n",
              "  <style>\n",
              "    .colab-df-container {\n",
              "      display:flex;\n",
              "      flex-wrap:wrap;\n",
              "      gap: 12px;\n",
              "    }\n",
              "\n",
              "    .colab-df-convert {\n",
              "      background-color: #E8F0FE;\n",
              "      border: none;\n",
              "      border-radius: 50%;\n",
              "      cursor: pointer;\n",
              "      display: none;\n",
              "      fill: #1967D2;\n",
              "      height: 32px;\n",
              "      padding: 0 0 0 0;\n",
              "      width: 32px;\n",
              "    }\n",
              "\n",
              "    .colab-df-convert:hover {\n",
              "      background-color: #E2EBFA;\n",
              "      box-shadow: 0px 1px 2px rgba(60, 64, 67, 0.3), 0px 1px 3px 1px rgba(60, 64, 67, 0.15);\n",
              "      fill: #174EA6;\n",
              "    }\n",
              "\n",
              "    [theme=dark] .colab-df-convert {\n",
              "      background-color: #3B4455;\n",
              "      fill: #D2E3FC;\n",
              "    }\n",
              "\n",
              "    [theme=dark] .colab-df-convert:hover {\n",
              "      background-color: #434B5C;\n",
              "      box-shadow: 0px 1px 3px 1px rgba(0, 0, 0, 0.15);\n",
              "      filter: drop-shadow(0px 1px 2px rgba(0, 0, 0, 0.3));\n",
              "      fill: #FFFFFF;\n",
              "    }\n",
              "  </style>\n",
              "\n",
              "      <script>\n",
              "        const buttonEl =\n",
              "          document.querySelector('#df-e992acb5-9786-4399-b6a8-91bf47d8b456 button.colab-df-convert');\n",
              "        buttonEl.style.display =\n",
              "          google.colab.kernel.accessAllowed ? 'block' : 'none';\n",
              "\n",
              "        async function convertToInteractive(key) {\n",
              "          const element = document.querySelector('#df-e992acb5-9786-4399-b6a8-91bf47d8b456');\n",
              "          const dataTable =\n",
              "            await google.colab.kernel.invokeFunction('convertToInteractive',\n",
              "                                                     [key], {});\n",
              "          if (!dataTable) return;\n",
              "\n",
              "          const docLinkHtml = 'Like what you see? Visit the ' +\n",
              "            '<a target=\"_blank\" href=https://colab.research.google.com/notebooks/data_table.ipynb>data table notebook</a>'\n",
              "            + ' to learn more about interactive tables.';\n",
              "          element.innerHTML = '';\n",
              "          dataTable['output_type'] = 'display_data';\n",
              "          await google.colab.output.renderOutput(dataTable, element);\n",
              "          const docLink = document.createElement('div');\n",
              "          docLink.innerHTML = docLinkHtml;\n",
              "          element.appendChild(docLink);\n",
              "        }\n",
              "      </script>\n",
              "    </div>\n",
              "  </div>\n",
              "  "
            ]
          },
          "metadata": {},
          "execution_count": 1
        }
      ],
      "source": [
        "import pandas as pd                                       # masukan libraries pandas untuk memproses data\n",
        "import numpy as np                                        # NumPy (Numerical Python) adalah library Python yang menyediakan fungsi memudahkan kita melakukan perhitungan saintifik\n",
        "from sklearn.model_selection import train_test_split      # untuk membagi array atau matriks menjadi himpunan bagian acak untuk data latih dan uji\n",
        "import matplotlib.pyplot as plt                           # suatu library python untuk melakukan visualisasi data seperti membuat plot grafik untuk satu sumbu atau lebih.\n",
        "from sklearn.cluster import KMeans                        # library python yang menyediakan banyak algoritma pembelajaran untuk regresi, pengelompokan, dan klasifikasi (K-Means)\n",
        "from sklearn.metrics import silhouette_score              # untuk kumpulan data digunakan untuk mengukur rata-rata Koefisien Silhouette untuk setiap sampel\n",
        "from sklearn.metrics import classification_report         # untuk memuat hasil laporan klasifikasi\n",
        "import joblib                                             # paket yang dapat dengan mudah mengubah kode Python menjadi mode komputasi paralel dan meningkatkannya.\n",
        "\n",
        "data = pd.read_csv('/content/House Price India.csv')      # Membaca dataset/memmuat data\n",
        "\n",
        "data.head()                                               # Menampilkan isi data set teratas "
      ]
    },
    {
      "cell_type": "markdown",
      "source": [
        "# **Memilih Fitur**\n",
        "\n",
        "Semua fitur yang ada pada data semuanya berpengatuh jadi tidak ada yang tidak relevan maka semua fitur harus digunakan. Untuk itu ada gunaka satu fitur target yaitu Price"
      ],
      "metadata": {
        "id": "at5FAfnZxOl5"
      }
    },
    {
      "cell_type": "code",
      "source": [
        "data.columns            #Melihat colom/attribut apa saja yang ada pada data set"
      ],
      "metadata": {
        "colab": {
          "base_uri": "https://localhost:8080/"
        },
        "id": "1ZQkit92xT35",
        "outputId": "34f41a2e-3347-4f8e-8c1d-456bba670d57"
      },
      "execution_count": 2,
      "outputs": [
        {
          "output_type": "execute_result",
          "data": {
            "text/plain": [
              "Index(['id', 'Date', 'number of bedrooms', 'number of bathrooms',\n",
              "       'living area', 'lot area', 'number of floors', 'waterfront present',\n",
              "       'number of views', 'condition of the house', 'grade of the house',\n",
              "       'Area of the house(excluding basement)', 'Area of the basement',\n",
              "       'Built Year', 'Renovation Year', 'Postal Code', 'Lattitude',\n",
              "       'Longitude', 'living_area_renov', 'lot_area_renov',\n",
              "       'Number of schools nearby', 'Distance from the airport', 'Price'],\n",
              "      dtype='object')"
            ]
          },
          "metadata": {},
          "execution_count": 2
        }
      ]
    },
    {
      "cell_type": "markdown",
      "source": [
        "# **Menangani Nilai Yang Hilang**\n",
        "\n",
        "Disini untuk mengecek apakah ada datang yang hilang, jika ada data yang hilang maka harus dihapus atau diubah. Karena pada dataset ini tidak ada missing values, jadi tidak perlu untuk menghapus atau mengubah datanya."
      ],
      "metadata": {
        "id": "6ZtHJ9x6xYDo"
      }
    },
    {
      "cell_type": "code",
      "source": [
        "missing_values = data.isnull().sum()                # Mengecek missing values dalam dataset is null untuk mengkonfirmasi jika ada data yang missing(hilang)\n",
        "print(missing_values)                               # Menjalankan hasil mising value"
      ],
      "metadata": {
        "colab": {
          "base_uri": "https://localhost:8080/"
        },
        "id": "i2iidKEexc3x",
        "outputId": "75f77bd0-8fd3-4f30-d1b8-c3e2e7e41ae6"
      },
      "execution_count": 3,
      "outputs": [
        {
          "output_type": "stream",
          "name": "stdout",
          "text": [
            "id                                       0\n",
            "Date                                     0\n",
            "number of bedrooms                       0\n",
            "number of bathrooms                      0\n",
            "living area                              0\n",
            "lot area                                 0\n",
            "number of floors                         0\n",
            "waterfront present                       0\n",
            "number of views                          0\n",
            "condition of the house                   0\n",
            "grade of the house                       0\n",
            "Area of the house(excluding basement)    0\n",
            "Area of the basement                     0\n",
            "Built Year                               0\n",
            "Renovation Year                          0\n",
            "Postal Code                              0\n",
            "Lattitude                                0\n",
            "Longitude                                0\n",
            "living_area_renov                        0\n",
            "lot_area_renov                           0\n",
            "Number of schools nearby                 0\n",
            "Distance from the airport                0\n",
            "Price                                    0\n",
            "dtype: int64\n"
          ]
        }
      ]
    },
    {
      "cell_type": "markdown",
      "source": [
        "# **Mengubah data kategorikal menjadi numerik**\n",
        "\n",
        "karena dataset yang digunakan sudah numerik maka tidak perlu mengubahnya."
      ],
      "metadata": {
        "id": "TZaX_0DRxfch"
      }
    },
    {
      "cell_type": "code",
      "source": [
        "data.dtypes    # Melihat data kategorikal "
      ],
      "metadata": {
        "colab": {
          "base_uri": "https://localhost:8080/"
        },
        "id": "24pgpws8xnZC",
        "outputId": "7f6acc90-4f47-466d-865a-03d22356e0a6"
      },
      "execution_count": 4,
      "outputs": [
        {
          "output_type": "execute_result",
          "data": {
            "text/plain": [
              "id                                         int64\n",
              "Date                                       int64\n",
              "number of bedrooms                         int64\n",
              "number of bathrooms                      float64\n",
              "living area                                int64\n",
              "lot area                                   int64\n",
              "number of floors                         float64\n",
              "waterfront present                         int64\n",
              "number of views                            int64\n",
              "condition of the house                     int64\n",
              "grade of the house                         int64\n",
              "Area of the house(excluding basement)      int64\n",
              "Area of the basement                       int64\n",
              "Built Year                                 int64\n",
              "Renovation Year                            int64\n",
              "Postal Code                                int64\n",
              "Lattitude                                float64\n",
              "Longitude                                float64\n",
              "living_area_renov                          int64\n",
              "lot_area_renov                             int64\n",
              "Number of schools nearby                   int64\n",
              "Distance from the airport                  int64\n",
              "Price                                      int64\n",
              "dtype: object"
            ]
          },
          "metadata": {},
          "execution_count": 4
        }
      ]
    },
    {
      "cell_type": "markdown",
      "source": [
        "# **Memisahkan fitur target**\n",
        " \n",
        "Mengambil fitur targer yaitu Price"
      ],
      "metadata": {
        "id": "p5gTehgpxqVg"
      }
    },
    {
      "cell_type": "code",
      "source": [
        "X = data.drop(['Price'], axis=1)            # Membuat variabel X untuk membuat data traning dan memisahkan atribut pada data set\n",
        "\n",
        "y = data['Price']                           # Membuat variabel y untuk membuat data traning dan mengambil data set"
      ],
      "metadata": {
        "id": "RMYu30o6xqDK"
      },
      "execution_count": 6,
      "outputs": []
    },
    {
      "cell_type": "markdown",
      "source": [
        "# **Memisahkan data menjadi set pelatihan dan pengujian**\n",
        "\n",
        "train = data pelatihan test = data testing untuk melatih model dengan data yang telah diketahui dan menguji kinerjanya pada data yang belum diketahui"
      ],
      "metadata": {
        "id": "2QAyuLAuxzk4"
      }
    },
    {
      "cell_type": "code",
      "source": [
        "X_train, X_test, y_train, y_test = train_test_split(X, y, test_size=0.2)      # Membuat data training dan data testing\n",
        "\n",
        "X_train.shape, X_test.shape                                                   # cek bentuk dari X_train and X_test"
      ],
      "metadata": {
        "colab": {
          "base_uri": "https://localhost:8080/"
        },
        "id": "GuaQOx1Wx2t6",
        "outputId": "13a57279-a666-4594-d742-3540ad119429"
      },
      "execution_count": 8,
      "outputs": [
        {
          "output_type": "execute_result",
          "data": {
            "text/plain": [
              "((11696, 22), (2924, 22))"
            ]
          },
          "metadata": {},
          "execution_count": 8
        }
      ]
    },
    {
      "cell_type": "markdown",
      "source": [
        "# **Membuat metode K-Means**"
      ],
      "metadata": {
        "id": "P53ZoFSNx4fB"
      }
    },
    {
      "cell_type": "code",
      "source": [
        "# Inisialisasi daftar untuk menyimpan skor silhouette \n",
        "# untuk mengevaluasi kualitas cluster yang dibuat menggunakan algoritma clustering seperti K-Means\n",
        "silhouette_scores = []\n",
        "\n",
        "k_values = range(2, 11) # Menentukan rentang jumlah kluster yang akan diuji\n",
        "\n",
        "# Melakukan K-means clustering untuk setiap jumlah kluster\n",
        "for k in k_values:\n",
        "\n",
        "    kmeans = KMeans(n_clusters=k)                 # Inisialisasi KMeans object\n",
        "    \n",
        "    kmeans.fit(X)                                 # Melatih model K-means clustering\n",
        "    \n",
        "    y_pred = kmeans.predict(X)                    # Prediksi kluster untuk setiap sampel\n",
        "    \n",
        "    # Menghitung skor silhouette\n",
        "    silhouette_avg = silhouette_score(X, y_pred)\n",
        "    silhouette_scores.append(silhouette_avg)\n",
        "\n",
        "# Menjalankan Plot elbow curve\n",
        "plt.plot(k_values, silhouette_scores, 'bx-')\n",
        "plt.xlabel('Jumlah Kluster (k)')\n",
        "plt.ylabel('Silhouette Score')\n",
        "plt.title('Elbow Method K-Means')\n",
        "plt.show()"
      ],
      "metadata": {
        "colab": {
          "base_uri": "https://localhost:8080/",
          "height": 824
        },
        "id": "HIUQjac7yC44",
        "outputId": "35ca5590-1c7c-4e09-dd66-e6af7e45bdd8"
      },
      "execution_count": 12,
      "outputs": [
        {
          "output_type": "stream",
          "name": "stderr",
          "text": [
            "/usr/local/lib/python3.10/dist-packages/sklearn/cluster/_kmeans.py:870: FutureWarning: The default value of `n_init` will change from 10 to 'auto' in 1.4. Set the value of `n_init` explicitly to suppress the warning\n",
            "  warnings.warn(\n",
            "/usr/local/lib/python3.10/dist-packages/sklearn/cluster/_kmeans.py:870: FutureWarning: The default value of `n_init` will change from 10 to 'auto' in 1.4. Set the value of `n_init` explicitly to suppress the warning\n",
            "  warnings.warn(\n",
            "/usr/local/lib/python3.10/dist-packages/sklearn/cluster/_kmeans.py:870: FutureWarning: The default value of `n_init` will change from 10 to 'auto' in 1.4. Set the value of `n_init` explicitly to suppress the warning\n",
            "  warnings.warn(\n",
            "/usr/local/lib/python3.10/dist-packages/sklearn/cluster/_kmeans.py:870: FutureWarning: The default value of `n_init` will change from 10 to 'auto' in 1.4. Set the value of `n_init` explicitly to suppress the warning\n",
            "  warnings.warn(\n",
            "/usr/local/lib/python3.10/dist-packages/sklearn/cluster/_kmeans.py:870: FutureWarning: The default value of `n_init` will change from 10 to 'auto' in 1.4. Set the value of `n_init` explicitly to suppress the warning\n",
            "  warnings.warn(\n",
            "/usr/local/lib/python3.10/dist-packages/sklearn/cluster/_kmeans.py:870: FutureWarning: The default value of `n_init` will change from 10 to 'auto' in 1.4. Set the value of `n_init` explicitly to suppress the warning\n",
            "  warnings.warn(\n",
            "/usr/local/lib/python3.10/dist-packages/sklearn/cluster/_kmeans.py:870: FutureWarning: The default value of `n_init` will change from 10 to 'auto' in 1.4. Set the value of `n_init` explicitly to suppress the warning\n",
            "  warnings.warn(\n",
            "/usr/local/lib/python3.10/dist-packages/sklearn/cluster/_kmeans.py:870: FutureWarning: The default value of `n_init` will change from 10 to 'auto' in 1.4. Set the value of `n_init` explicitly to suppress the warning\n",
            "  warnings.warn(\n",
            "/usr/local/lib/python3.10/dist-packages/sklearn/cluster/_kmeans.py:870: FutureWarning: The default value of `n_init` will change from 10 to 'auto' in 1.4. Set the value of `n_init` explicitly to suppress the warning\n",
            "  warnings.warn(\n"
          ]
        },
        {
          "output_type": "display_data",
          "data": {
            "text/plain": [
              "<Figure size 640x480 with 1 Axes>"
            ],
            "image/png": "[encoded data removed]"
          },
          "metadata": {}
        }
      ]
    },
    {
      "cell_type": "markdown",
      "source": [
        "# **Menyiman model hasil K-Means**"
      ],
      "metadata": {
        "id": "bJVMpErHyFdi"
      }
    },
    {
      "cell_type": "code",
      "source": [
        "joblib.dump(kmeans, 'kmeans_model.pkl')     # Menyimpan model K-means ke file menggunakan joblib\n",
        "\n",
        "print(\"Model K-means telah disimpan\")       # Menampilkan pesan setelah menyimpan model"
      ],
      "metadata": {
        "colab": {
          "base_uri": "https://localhost:8080/"
        },
        "id": "eIQOK7yWyM_Q",
        "outputId": "6772c81c-83e9-415d-faa8-3fb2928627af"
      },
      "execution_count": 10,
      "outputs": [
        {
          "output_type": "stream",
          "name": "stdout",
          "text": [
            "Model K-means telah disimpan\n"
          ]
        }
      ]
    }
  ]
}